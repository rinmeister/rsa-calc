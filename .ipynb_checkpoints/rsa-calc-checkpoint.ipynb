{
 "cells": [
  {
   "cell_type": "markdown",
   "id": "8ef02132",
   "metadata": {},
   "source": [
    "# Praktische implementatie RSA met python\n",
    "Voor RSA private en public key encryption zijn een aantal zaken benodigd:\n",
    "\n",
    "+ Twee priemgetallen. We kiezen hier in dit voorbeeld voor *$\\prime$p = 17 en $\\prime$q = 23*\n",
    "+ Een variabele '*n*'. Deze is gelijk aan *n=p $\\times$ q*\n",
    "+ Een variabele '*z*'. Deze is gelijk aan *z=(p - 1)(q - 1)*\n",
    "\n",
    "We lopen door de code heen met uitleg tussen de verschillende blokken."
   ]
  },
  {
   "cell_type": "markdown",
   "id": "e1a6d5ac",
   "metadata": {},
   "source": [
    "Er worden verschillende modules gebruikt:\n",
    "+ **gcd**: Een module om relatieve priemgetallen te kunnen vaststellen\n",
    "+ **os**: gebruiken we hier om een clear screen te kunnen uitvoeren.\n",
    "+ **random**: Uit deze module gebruiken we randrange om een random waarde uit een reeks te kunnen kiezen.\n",
    "+ **colorama**: Hiermee kunnen we verschillende kleuren gebruiken in de output."
   ]
  },
  {
   "cell_type": "code",
   "execution_count": 1,
   "id": "f48b6e1d",
   "metadata": {},
   "outputs": [],
   "source": [
    "from math import gcd as gcd\n",
    "from os import system, name\n",
    "from random import randrange\n",
    "from colorama import Fore, Style"
   ]
  },
  {
   "cell_type": "code",
   "execution_count": 2,
   "id": "6e280257",
   "metadata": {},
   "outputs": [],
   "source": [
    "#Prime keys are given:\n",
    "p = 17\n",
    "q = 23\n",
    "string_value = ''\n",
    "\n",
    "#calculate neccesary variables for RSA:\n",
    "n = p * q\n",
    "z = (p-1)*(q-1)"
   ]
  },
  {
   "cell_type": "markdown",
   "id": "e4e4de84",
   "metadata": {},
   "source": [
    "Nu definieren we twee functies die een public key en een private key waarde zoeken. De public key waarde gebruiken we hier voor encryptie (*e*). Dit is een waarde die een relatief priemgetal moet zijn van *z* en moet kleiner zijn dan *n*. Een relatief priemgetal deelt met *z* geen gemeenschappelijke factoren anders dan de deelfactor 1.\n",
    "\n",
    "In Python gebruiken we hiervoor de module **gcd**. Wat die doet is een modulus berekenen tussen beide getallen. Deze modulus mag geen 0 zijn want dan is er een deelbare relatie tussen beide getallen.\n",
    "\n",
    "Naast de module **gcd** gebruiken we **randrange**. Met randrange kun je een random nummer kiezen in een bepaalde range. Omdat *e < n* kiezen we randrange(*n*).\n",
    "\n",
    "De tweede functie kiest de private key waarde die we gebruiken voor decryptie (*d*). De regels voor hiervoor zijn dat *(e $\\times$ d)-1* deelbaar moet zijn door *z* zonder restwaarde. Oftewel *(e $\\times$ d) -1) mod z = 0*. Daarnaast moet *e $\\times$ d > z*.\n",
    "\n",
    "We gebruiken ook hier weer **randrange** maar dan met een minimale waarde namelijk *z/e* afgerond op een heel getal. Als maximum waarde in de range gebruiken we in dit voorbeeld 500. Het script kiest in een while loop telkens een waarde en berekent daarover de formule zoals hierboven omschreven."
   ]
  },
  {
   "cell_type": "code",
   "execution_count": 3,
   "id": "af3e00ef",
   "metadata": {},
   "outputs": [],
   "source": [
    "def calcPublicKey(n):\n",
    "\n",
    "    #randrange kan een random nummer uit een range halen. Bijvoorbeeld \n",
    "    #randrange(10)\n",
    "    #haalt een waarde tussen 0 en 9.\n",
    "    e = randrange(n)\n",
    "\n",
    "    #De while zoekt net zolang naar een integer waarde e die een co-prime is \n",
    "    #van z. Als dat zo is dan stopt de loop.\n",
    "    while gcd(e,z) != 1:\n",
    "        e = randrange(n)\n",
    "\n",
    "    print('public key is {},{}'.format(n,e))\n",
    "    return(e)"
   ]
  },
  {
   "cell_type": "code",
   "execution_count": 4,
   "id": "80020ba3",
   "metadata": {},
   "outputs": [],
   "source": [
    "def calcPrivateKey(e,z):\n",
    "    ''' Berekenen van de private key.\n",
    "    d moet een waarde zijn waarbij geldt dat (e*d) - 1 deelbaar moet zijn door\n",
    "    z en waarbij er geen restwaarde is. Oftewel de waarde e*d -1 mod z is 0\n",
    "    Om d te bepalen moet e*d in ieder geval al groter zijn dan z. De minimale \n",
    "    waarde van d is z/e afgerond op een heel getal. '''\n",
    "\n",
    "    d  = randrange(round(z/e),500)\n",
    "    while (((e*d)-1)%z != 0):\n",
    "        d  = randrange(round(z/e),500)\n",
    "\n",
    "    print('private key is {},{}'.format(n,d))\n",
    "    return(d)"
   ]
  },
  {
   "cell_type": "markdown",
   "id": "34f2f7fe",
   "metadata": {},
   "source": [
    "Hieronder volgt de main van het programma met een clear screen voor linux en windows OS"
   ]
  },
  {
   "cell_type": "code",
   "execution_count": 5,
   "id": "26f7c3f5",
   "metadata": {},
   "outputs": [
    {
     "name": "stdout",
     "output_type": "stream",
     "text": [
      "\u001b[H\u001b[2J"
     ]
    }
   ],
   "source": [
    "if __name__ == \"__main__\":\n",
    "    #clear the screen. Different commands depending on OS.\n",
    "    if name == 'posix':\n",
    "        _ = system('clear')\n",
    "    else:\n",
    "        _ = system('cls')"
   ]
  },
  {
   "cell_type": "markdown",
   "id": "5942e8fa",
   "metadata": {},
   "source": [
    "Vanuit main worden calls gedaan op de functies van hierboven om de public en private keys te maken. We gebruiken ook nog de module **colorama** om met verschillende kleuren te kunnen werken.\n",
    "Als laatste vraagt input om een string om te kunnen encrypten en decrypten. Alle letters in de string worden omgezet naar ascii en 1 voor 1 geplaatst in een list *ascii_values*."
   ]
  },
  {
   "cell_type": "code",
   "execution_count": 6,
   "id": "b4393e6f",
   "metadata": {},
   "outputs": [
    {
     "name": "stdout",
     "output_type": "stream",
     "text": [
      "public key is 391,321\n",
      "private key is 391,193\n",
      "Voer een woord in om te encrypten: Dit is de tekst\n"
     ]
    }
   ],
   "source": [
    "    #calculate the public and private keys\n",
    "    e = calcPublicKey(n)\n",
    "    d = calcPrivateKey(e,z)\n",
    "    text = input(Fore.GREEN + \"Voer een woord in om te encrypten: \")\n",
    "    ascii_values = []\n",
    "    for character in text:\n",
    "        ascii_values.append(ord(character))"
   ]
  },
  {
   "cell_type": "markdown",
   "id": "7ea70f5e",
   "metadata": {},
   "source": [
    "Volgende stap is om de ingegeven string daadwerkelijk te encrypten met de public key (*e*) en te decrypten met de private key (*d*) om aan te tonen dat het werkt.\n",
    "Encryptie gebeurt als volgt: *(($asciiwaarde^e$) mod n)*.\n",
    "Decryptie gaat als volgt: *(($cipherwaarde^d$) mod n)*.\n",
    " "
   ]
  },
  {
   "cell_type": "code",
   "execution_count": 7,
   "id": "a3922870",
   "metadata": {},
   "outputs": [
    {
     "name": "stdout",
     "output_type": "stream",
     "text": [
      "\u001b[0mencrypt met public key 391,321 geeft: \u001b[31m[68, 54, 116, 219, 54, 115, 219, 202, 288, 219, 116, 288, 5, 115, 116]\u001b[0m\n"
     ]
    }
   ],
   "source": [
    "    #Encryption\n",
    "    cipher_values=[]\n",
    "    for ascii in ascii_values:\n",
    "        cipher_values.append(pow(ascii, e, n))\n",
    "    print(f'{Style.RESET_ALL}encrypt met public key {n},{e} geeft: {Fore.RED}{cipher_values}{Style.RESET_ALL}')\n",
    "    #decryption\n",
    "    decrypted_values = []\n",
    "    for cipher in cipher_values:\n",
    "        decrypted_values.append(pow(cipher, d, n))"
   ]
  },
  {
   "cell_type": "markdown",
   "id": "7c5d4726",
   "metadata": {},
   "source": [
    "Als laatste herstellen we de string door een loop te maken door de list met originele ascii karakters en deze weer om te zetten naar characters. Deze drukken we af op het scherm."
   ]
  },
  {
   "cell_type": "code",
   "execution_count": 8,
   "id": "d3911353",
   "metadata": {},
   "outputs": [
    {
     "name": "stdout",
     "output_type": "stream",
     "text": [
      "decrypt met private key 391,193 geeft: \u001b[32mDit is de tekst\u001b[0m\n"
     ]
    }
   ],
   "source": [
    "    #write to character\n",
    "    for character in decrypted_values:\n",
    "        string_value = '{}{}'.format(string_value, chr(character))\n",
    "\n",
    "    print(f'decrypt met private key {n},{d} geeft: {Fore.GREEN}{string_value}{Style.RESET_ALL}')"
   ]
  }
 ],
 "metadata": {
  "kernelspec": {
   "display_name": "Python 3 (ipykernel)",
   "language": "python",
   "name": "python3"
  },
  "language_info": {
   "codemirror_mode": {
    "name": "ipython",
    "version": 3
   },
   "file_extension": ".py",
   "mimetype": "text/x-python",
   "name": "python",
   "nbconvert_exporter": "python",
   "pygments_lexer": "ipython3",
   "version": "3.9.10"
  }
 },
 "nbformat": 4,
 "nbformat_minor": 5
}
